{
 "cells": [
  {
   "cell_type": "code",
   "execution_count": null,
   "metadata": {},
   "outputs": [],
   "source": [
    "from haystack.dataclasses import Document\n",
    "from haystack.components.embedders import SentenceTransformersDocumentEmbedder\n",
    "from haystack.components.writers import DocumentWriter\n",
    "from haystack.components.preprocessors import DocumentSplitter, DocumentCleaner\n",
    "from haystack.components.joiners import DocumentJoiner\n",
    "from haystack import Pipeline\n",
    "from haystack_integrations.document_stores.qdrant import QdrantDocumentStore"
   ]
  },
  {
   "cell_type": "code",
   "execution_count": null,
   "metadata": {},
   "outputs": [],
   "source": [
    "CSV_PATH = \"\"\n",
    "# Assumed CSV columns: text, title, doi, publication_name, subject_areas, etc.\n",
    "EMBEDDING_MODEL = \"\"\n",
    "EMBEDDING_DIMENSIONS = 0\n",
    "VECTOR_STORE_URL = \"\"\n",
    "COLLECTION_NAME = \"\"\n"
   ]
  },
  {
   "cell_type": "code",
   "execution_count": null,
   "metadata": {},
   "outputs": [],
   "source": [
    "import pandas as pd\n",
    "\n",
    "# Load csv file as pandas dataframe\n",
    "df = pd.read_csv(CSV_PATH)\n",
    "\n",
    "print(\"Dataframe loaded\")\n",
    "\n",
    "# Drop rows where text is none or empty\n",
    "df = df.dropna(subset=['text'])"
   ]
  },
  {
   "cell_type": "code",
   "execution_count": null,
   "metadata": {},
   "outputs": [],
   "source": [
    "# Print dataframe columns\n",
    "print(df.columns)"
   ]
  },
  {
   "cell_type": "code",
   "execution_count": null,
   "metadata": {},
   "outputs": [],
   "source": [
    "# Create list of Haystack Documents from the dataframe where the text column is mapped to the content key\n",
    "# and the other columns besides id are mapped to the meta key\n",
    "documents = []\n",
    "for index, row in df.iterrows():\n",
    "    documents.append(Document(content=row['text'], meta={\"title\": row['title'], \"doi\": row['doi'], \"publication_name\": row['publication_name'], \"subject_areas\": row['subject_areas']}))"
   ]
  },
  {
   "cell_type": "code",
   "execution_count": null,
   "metadata": {},
   "outputs": [],
   "source": [
    "document_store = QdrantDocumentStore(\n",
    "\t\turl=VECTOR_STORE_URL,\n",
    "    index=COLLECTION_NAME,\n",
    "    embedding_dim=EMBEDDING_DIMENSIONS\n",
    ")\n",
    "document_joiner = DocumentJoiner()"
   ]
  },
  {
   "cell_type": "code",
   "execution_count": null,
   "metadata": {},
   "outputs": [],
   "source": [
    "document_cleaner = DocumentCleaner()\n",
    "document_splitter = DocumentSplitter(split_by=\"word\", split_length=150, split_overlap=50)"
   ]
  },
  {
   "cell_type": "code",
   "execution_count": null,
   "metadata": {},
   "outputs": [],
   "source": [
    "document_embedder = SentenceTransformersDocumentEmbedder(\n",
    "    model=EMBEDDING_MODEL,\n",
    ")\n",
    "document_writer = DocumentWriter(document_store)"
   ]
  },
  {
   "cell_type": "code",
   "execution_count": null,
   "metadata": {},
   "outputs": [],
   "source": [
    "from haystack import component\n",
    "from typing import List\n",
    "\n",
    "# For mixedbread-ai model only!\n",
    "\n",
    "@component\n",
    "class QueryAdder:\n",
    "  \"\"\"\n",
    "  A component that adds a query to each doc for specific embedding models\n",
    "  \"\"\"\n",
    "  @component.output_types(documents=List[Document])\n",
    "  def run(self, documents:List[Document]):\n",
    "    for doc in documents:\n",
    "      if doc.content:\n",
    "        doc.content = f'Represent this sentence for searching relevant passages: {doc.content}'\n",
    "\n",
    "    return {\"documents\": documents}\n",
    "  \n",
    "query_adder = QueryAdder()"
   ]
  },
  {
   "cell_type": "code",
   "execution_count": null,
   "metadata": {},
   "outputs": [],
   "source": [
    "preprocessing_pipeline = Pipeline()\n",
    "preprocessing_pipeline.add_component(instance=document_joiner, name=\"document_joiner\")\n",
    "preprocessing_pipeline.add_component(instance=document_cleaner, name=\"document_cleaner\")\n",
    "preprocessing_pipeline.add_component(instance=document_splitter, name=\"document_splitter\")\n",
    "\n",
    "# If mixedbread-ai model\n",
    "# preprocessing_pipeline.add_component(instance=query_adder, name=\"query_adder\")\n",
    "\n",
    "preprocessing_pipeline.add_component(instance=document_embedder, name=\"document_embedder\")\n",
    "preprocessing_pipeline.add_component(instance=document_writer, name=\"document_writer\")"
   ]
  },
  {
   "cell_type": "code",
   "execution_count": null,
   "metadata": {},
   "outputs": [],
   "source": [
    "preprocessing_pipeline.connect(\"document_joiner\", \"document_cleaner\")\n",
    "preprocessing_pipeline.connect(\"document_cleaner\", \"document_splitter\")\n",
    "\n",
    "# If mixedbread-ai model\n",
    "# preprocessing_pipeline.connect(\"document_splitter\", \"query_adder\")\n",
    "# preprocessing_pipeline.connect(\"query_adder\", \"document_embedder\")\n",
    "# preprocessing_pipeline.connect(\"document_embedder\", \"document_writer\")\n",
    "\n",
    "# If not mixedbread\n",
    "preprocessing_pipeline.connect(\"document_splitter\", \"document_embedder\")\n",
    "preprocessing_pipeline.connect(\"document_embedder\", \"document_writer\")"
   ]
  },
  {
   "cell_type": "code",
   "execution_count": null,
   "metadata": {},
   "outputs": [],
   "source": [
    "preprocessing_pipeline.run({\"documents\": documents})"
   ]
  }
 ],
 "metadata": {
  "kernelspec": {
   "display_name": "haystack",
   "language": "python",
   "name": "python3"
  },
  "language_info": {
   "codemirror_mode": {
    "name": "ipython",
    "version": 3
   },
   "file_extension": ".py",
   "mimetype": "text/x-python",
   "name": "python",
   "nbconvert_exporter": "python",
   "pygments_lexer": "ipython3",
   "version": "3.10.14"
  }
 },
 "nbformat": 4,
 "nbformat_minor": 2
}
